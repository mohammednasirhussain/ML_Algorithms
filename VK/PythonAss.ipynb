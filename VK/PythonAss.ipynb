{
 "cells": [
  {
   "cell_type": "markdown",
   "id": "9f0995e4-2bdd-44da-a1a2-be4d8d0cf58c",
   "metadata": {},
   "source": [
    "# 1. investment aand principal and interest"
   ]
  },
  {
   "cell_type": "code",
   "execution_count": 6,
   "id": "2eaa72ef-97f1-4762-ba53-b9907744c7b7",
   "metadata": {},
   "outputs": [
    {
     "name": "stdout",
     "output_type": "stream",
     "text": [
      "Principal - $1000, Interest rate - 5.0%\n"
     ]
    }
   ],
   "source": [
    "# p(1+i)n,--p =$1000.00, Interest rate 5.\n",
    "class investment:\n",
    "\n",
    "    def __init__(self,principal,interest):\n",
    "        self.principal = principal\n",
    "        self.interest  = interest\n",
    "    \n",
    "    def value_after(self,year):\n",
    "        return self.principal*(1+self.interest*100)** years\n",
    "\n",
    "    def __str__(self):\n",
    "        return f\"Principal - ${self.principal}, Interest rate - {self.interest*100}%\"\n",
    "\n",
    "a = investment(1000,0.05)\n",
    "print(a)"
   ]
  },
  {
   "cell_type": "markdown",
   "id": "47e51f39-4097-4f9e-95cc-20237571e6ba",
   "metadata": {},
   "source": [
    "# 2. password manager"
   ]
  },
  {
   "cell_type": "code",
   "execution_count": 13,
   "id": "41278fde-aeb8-4e6b-b163-2450a79654a3",
   "metadata": {},
   "outputs": [
    {
     "data": {
      "text/plain": [
       "True"
      ]
     },
     "execution_count": 13,
     "metadata": {},
     "output_type": "execute_result"
    }
   ],
   "source": [
    "#\n",
    "class Password_manager:\n",
    "\n",
    "    def __init__(self):\n",
    "        self.old_passwords = []\n",
    "\n",
    "    def get_password(self):\n",
    "        if self.old_passwords:\n",
    "            return self.old_passwords[-1]\n",
    "        else:\n",
    "            return None\n",
    "\n",
    "    def set_password(self, new_password):\n",
    "        if new_password not in self.old_passwords:\n",
    "            self.old_passwords.append(new_password)\n",
    "        \n",
    "\n",
    "    def is_correct(self,password):\n",
    "        return self.get_password() == password\n",
    "        pass\n",
    "\n",
    "pas = Password_manager()\n",
    "\n",
    "pas.set_password(\"mySecurePass123\")\n",
    "pas.set_password(\"mySecurePass123\")\n",
    "pas.set_password(\"mySecuress123\")\n",
    "\n",
    "pas.get_password()\n",
    "\n",
    "pas.is_correct(\"mySecurePass123\")\n",
    "pas.is_correct(\"mySecuress123\")\n",
    "\n",
    "    "
   ]
  },
  {
   "cell_type": "code",
   "execution_count": null,
   "id": "ffcc38e5-c50b-4124-84c4-1316d774b211",
   "metadata": {},
   "outputs": [],
   "source": []
  },
  {
   "cell_type": "markdown",
   "id": "48ecb8bb-09af-4e28-98b8-3a2886666e92",
   "metadata": {},
   "source": [
    "# 3. Worddplay"
   ]
  },
  {
   "cell_type": "code",
   "execution_count": null,
   "id": "feeb93fa-c6ff-4e55-b64e-9b5adbbe0c4d",
   "metadata": {},
   "outputs": [],
   "source": [
    "class wordplay:\n",
    "\n",
    "    def __init__(self):\n",
    "        self.lst = []\n",
    "        "
   ]
  }
 ],
 "metadata": {
  "kernelspec": {
   "display_name": "Python 3 (ipykernel)",
   "language": "python",
   "name": "python3"
  },
  "language_info": {
   "codemirror_mode": {
    "name": "ipython",
    "version": 3
   },
   "file_extension": ".py",
   "mimetype": "text/x-python",
   "name": "python",
   "nbconvert_exporter": "python",
   "pygments_lexer": "ipython3",
   "version": "3.12.4"
  }
 },
 "nbformat": 4,
 "nbformat_minor": 5
}
